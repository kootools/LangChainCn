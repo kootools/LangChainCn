{
 "cells": [
  {
   "cell_type": "code",
   "execution_count": 2,
   "metadata": {},
   "outputs": [],
   "source": [
    "import os\n",
    "import sys               \n",
    "sys.path.append(os.path.dirname(os.path.abspath(\".\"))) \n",
    "from API_KEYS import InitAzureEnv,AzureDeploymentName\n",
    "\n",
    "#初始化Azure环境\n",
    "InitAzureEnv()"
   ]
  },
  {
   "cell_type": "code",
   "execution_count": 3,
   "metadata": {},
   "outputs": [
    {
     "name": "stderr",
     "output_type": "stream",
     "text": [
      "/Library/Frameworks/Python.framework/Versions/3.11/lib/python3.11/site-packages/requests/__init__.py:109: RequestsDependencyWarning: urllib3 (1.26.16) or chardet (5.1.0)/charset_normalizer (2.0.12) doesn't match a supported version!\n",
      "  warnings.warn(\n"
     ]
    }
   ],
   "source": [
    "from langchain.chat_models import AzureChatOpenAI\n",
    "from langchain import PromptTemplate, LLMChain\n",
    "from langchain.prompts.chat import (\n",
    "    ChatPromptTemplate,\n",
    "    SystemMessagePromptTemplate,\n",
    "    AIMessagePromptTemplate,\n",
    "    HumanMessagePromptTemplate,\n",
    ")\n",
    "from langchain.schema import (\n",
    "    AIMessage,\n",
    "    HumanMessage,\n",
    "    SystemMessage\n",
    ")"
   ]
  },
  {
   "cell_type": "code",
   "execution_count": 4,
   "metadata": {},
   "outputs": [],
   "source": [
    "chat = AzureChatOpenAI(\n",
    "    deployment_name=AzureDeploymentName.CHAT,\n",
    "    temperature=0\n",
    ")"
   ]
  },
  {
   "cell_type": "code",
   "execution_count": 52,
   "metadata": {},
   "outputs": [],
   "source": [
    "system_temp='''你是一个SQL开发人员,需要根据客户的输入,分析出他查询的是什么产品,什么表的什么字段?用json{{'system':'','table':'','col':''}}的格式告诉我。只要json，不需要其他信息'''\n",
    "\n",
    "system_msg_prompt = SystemMessagePromptTemplate.from_template(system_temp)\n",
    "human_msg_prompt = HumanMessagePromptTemplate.from_template(\"{text}\")\n",
    "\n",
    "chat_prompt = ChatPromptTemplate.from_messages([system_msg_prompt, human_msg_prompt])\n",
    "ai_message = chat(chat_prompt.format_prompt(text=\"从售楼系统的房间表中获取2023年1季度的最低折扣\").to_messages())"
   ]
  },
  {
   "cell_type": "code",
   "execution_count": 53,
   "metadata": {},
   "outputs": [
    {
     "data": {
      "text/plain": [
       "\"{'system':'售楼系统','table':'房间宽表','col':'最低折扣','year':'2023','quarter':'1'}\""
      ]
     },
     "execution_count": 53,
     "metadata": {},
     "output_type": "execute_result"
    }
   ],
   "source": [
    "ai_message.content.replace(\"\\n\", \"\").replace(\" \", \"\")"
   ]
  },
  {
   "cell_type": "code",
   "execution_count": 43,
   "metadata": {},
   "outputs": [],
   "source": [
    "import pymysql\n",
    "conn = pymysql.connect(\n",
    "    host=\"localhost\", \n",
    "    port=3306,\n",
    "    user=\"root\", \n",
    "    password=\"123456\", \n",
    "    db=\"mdc\"\n",
    ")"
   ]
  },
  {
   "cell_type": "code",
   "execution_count": 44,
   "metadata": {},
   "outputs": [],
   "source": [
    "cursor = conn.cursor()"
   ]
  },
  {
   "cell_type": "code",
   "execution_count": 58,
   "metadata": {},
   "outputs": [],
   "source": [
    "cursor.execute('''SELECT ApplicationName from mdc_app''')\n",
    "systems = cursor.fetchall()"
   ]
  },
  {
   "cell_type": "code",
   "execution_count": 63,
   "metadata": {},
   "outputs": [
    {
     "name": "stdout",
     "output_type": "stream",
     "text": [
      "风控中心\n",
      "流程中心-引擎\n",
      "动态货值\n",
      "成本系统\n",
      "招采系统\n",
      "流程中心-业务\n",
      "移动验房\n",
      "云物业\n",
      "其他云链\n",
      "云链\n",
      "销售系统\n",
      "材料供应链\n",
      "数据服务中心\n",
      "主数据\n",
      "投资收益\n",
      "费用系统\n",
      "工作流\n",
      "其它ERP子系统\n",
      "明源新一代云ERP\n",
      "全面预算\n",
      "第三方应用\n",
      "第三方应用\n",
      "佣金管理\n",
      "云租赁\n",
      "云物业(云空间)\n",
      "云资管-CDM\n",
      "云资管-DM\n",
      "云资管-标准DM\n",
      "其他云空间\n",
      "云空间\n",
      "投后管理\n",
      "在线投标\n",
      "其它云产品\n",
      "云客\n",
      "云助手\n",
      "移动报表\n",
      "移动审批\n",
      "移动计划\n",
      "云助手\n",
      "全面预算\n",
      "费用系统\n",
      "采招系统\n",
      "成本系统\n",
      "计划系统\n",
      "销售系统\n",
      "工作流\n",
      "其它ERP子系统\n",
      "明源核心ERP\n",
      "计划系统\n"
     ]
    }
   ],
   "source": [
    "for sys in systems:\n",
    "    print(sys[0])"
   ]
  },
  {
   "cell_type": "code",
   "execution_count": 64,
   "metadata": {},
   "outputs": [
    {
     "name": "stderr",
     "output_type": "stream",
     "text": [
      "Using embedded DuckDB with persistence: data will be stored in: /Users/jiangyy/Codes/AI/LangChainCn/03-Samples/chroma/systems\n"
     ]
    }
   ],
   "source": [
    "from langchain.embeddings.openai import OpenAIEmbeddings\n",
    "from langchain.vectorstores import Chroma\n",
    "import json\n",
    "from langchain.docstore.document import Document\n",
    "\n",
    "embeddings = OpenAIEmbeddings(\n",
    "    deployment=AzureDeploymentName.EMEDDINGS,\n",
    "    chunk_size=1,\n",
    ")\n",
    "chroma_systems_directory = os.path.abspath(\"chroma/systems\")\n",
    "\n",
    "systems_pages = []\n",
    "for sys in systems:\n",
    "    systems_pages.append(Document(page_content=sys[0],metadata=dict()))\n",
    "\n",
    "docsearch = Chroma.from_documents(systems_pages, embeddings, persist_directory=chroma_systems_directory)\n",
    "docsearch.persist()"
   ]
  },
  {
   "cell_type": "code",
   "execution_count": null,
   "metadata": {},
   "outputs": [],
   "source": [
    "from langchain.chains.question_answering import load_qa_chain\n",
    "from langchain.llms import AzureOpenAI\n",
    "from langchain.prompts import PromptTemplate\n",
    "\n",
    "# # 加载数据\n",
    "sys_search = Chroma(persist_directory=chroma_systems_directory, embedding_function=embeddings)\n",
    "\n",
    "system_table_similarity = sys_search.similarity_search(query=\"售楼系统\",k=1)"
   ]
  },
  {
   "cell_type": "code",
   "execution_count": 89,
   "metadata": {},
   "outputs": [
    {
     "name": "stdout",
     "output_type": "stream",
     "text": [
      "销售系统\n"
     ]
    }
   ],
   "source": [
    "print(system_table_similarity[0].page_content)"
   ]
  },
  {
   "cell_type": "code",
   "execution_count": 56,
   "metadata": {},
   "outputs": [],
   "source": [
    "cursor.execute('''SELECT displayName from mdc_table''')\n",
    "tables = cursor.fetchall()"
   ]
  },
  {
   "cell_type": "code",
   "execution_count": 67,
   "metadata": {},
   "outputs": [
    {
     "name": "stderr",
     "output_type": "stream",
     "text": [
      "Using embedded DuckDB with persistence: data will be stored in: /Users/jiangyy/Codes/AI/LangChainCn/03-Samples/chroma/tables\n"
     ]
    }
   ],
   "source": [
    "chroma_tables_directory = os.path.abspath(\"chroma/tables\")\n",
    "\n",
    "tables_pages = []\n",
    "for tab in tables:\n",
    "    tables_pages.append(Document(page_content=tab[0],metadata=dict()))\n",
    "\n",
    "tab_search = Chroma.from_documents(tables_pages, embeddings, persist_directory=chroma_tables_directory)\n",
    "tab_search.persist()"
   ]
  },
  {
   "cell_type": "code",
   "execution_count": null,
   "metadata": {},
   "outputs": [],
   "source": [
    "tab_search = Chroma(persist_directory=chroma_tables_directory, embedding_function=embeddings)\n",
    "\n",
    "table_similarity = tab_search.similarity_search(query=\"房间表\",k=1)"
   ]
  },
  {
   "cell_type": "code",
   "execution_count": 90,
   "metadata": {},
   "outputs": [
    {
     "name": "stdout",
     "output_type": "stream",
     "text": [
      "房间宽表\n"
     ]
    }
   ],
   "source": [
    "print(table_similarity[0].page_content)"
   ]
  },
  {
   "cell_type": "code",
   "execution_count": 91,
   "metadata": {},
   "outputs": [],
   "source": [
    "cursor.execute('''SELECT\n",
    "        mdc_table.TableName\n",
    "    FROM mdc_table\n",
    "    INNER JOIN mdc_app ON mdc_table.appcode = mdc_app.appcode and mdc_table.AppLevelCode = mdc_app.levelcode\n",
    "    where mdc_app.ApplicationName='销售系统' and mdc_table.DisplayName = '房间宽表'\n",
    "    ORDER BY  TableName''')\n",
    "tablecode = cursor.fetchone()"
   ]
  },
  {
   "cell_type": "code",
   "execution_count": 93,
   "metadata": {},
   "outputs": [
    {
     "name": "stdout",
     "output_type": "stream",
     "text": [
      "data_wide_s_Room\n"
     ]
    }
   ],
   "source": [
    "print(tablecode[0])"
   ]
  },
  {
   "cell_type": "code",
   "execution_count": 94,
   "metadata": {},
   "outputs": [],
   "source": [
    "system_temp='''你是一个SQL开发人员,需要根据客户的输入生成一段SQL语句, 其中`售楼系统`的`房间表`对应的数据库表是data_wide_s_Room'''\n",
    "system_msg_prompt = SystemMessagePromptTemplate.from_template(system_temp)\n",
    "\n",
    "human_msg_prompt = HumanMessagePromptTemplate.from_template(\"{text}\")\n",
    "\n",
    "chat_prompt = ChatPromptTemplate.from_messages([system_msg_prompt, human_msg_prompt])\n",
    "ai_message = chat(chat_prompt.format_prompt(text=\"从售楼系统的房间表中获取2023年1季度的最低折扣\").to_messages())"
   ]
  },
  {
   "cell_type": "code",
   "execution_count": 95,
   "metadata": {},
   "outputs": [
    {
     "data": {
      "text/plain": [
       "AIMessage(content='生成的SQL语句如下：\\n\\n```sql\\nSELECT MIN(discount) FROM data_wide_s_Room WHERE YEAR(sale_date) = 2023 AND QUARTER(sale_date) = 1;\\n```\\n\\n这条SQL语句使用了`YEAR()`和`QUARTER()`函数来获取`sale_date`字段的年份和季度，然后使用`MIN()`函数获取最低折扣。', additional_kwargs={}, example=False)"
      ]
     },
     "execution_count": 95,
     "metadata": {},
     "output_type": "execute_result"
    }
   ],
   "source": [
    "ai_message"
   ]
  }
 ],
 "metadata": {
  "kernelspec": {
   "display_name": "Python 3",
   "language": "python",
   "name": "python3"
  },
  "language_info": {
   "name": "python",
   "version": "3.11.3"
  },
  "orig_nbformat": 4
 },
 "nbformat": 4,
 "nbformat_minor": 2
}
