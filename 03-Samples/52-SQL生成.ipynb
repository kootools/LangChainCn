{
 "cells": [
  {
   "attachments": {},
   "cell_type": "markdown",
   "metadata": {},
   "source": [
    "### 1、初始化 Azure API 调用环境\n"
   ]
  },
  {
   "cell_type": "code",
   "execution_count": 22,
   "metadata": {},
   "outputs": [],
   "source": [
    "import os\n",
    "import sys               \n",
    "sys.path.append(os.path.dirname(os.path.abspath(\".\"))) \n",
    "from API_KEYS import InitAzureEnv,AzureDeploymentName\n",
    "\n",
    "InitAzureEnv()"
   ]
  },
  {
   "attachments": {},
   "cell_type": "markdown",
   "metadata": {},
   "source": [
    "### 2、获取并存储宽表的表结构\n",
    "\n",
    "#### 2.1、初始化数据库链接\n"
   ]
  },
  {
   "cell_type": "code",
   "execution_count": 23,
   "metadata": {},
   "outputs": [],
   "source": [
    "import pymysql\n",
    "conn = pymysql.connect(\n",
    "    host=\"localhost\", \n",
    "    port=3306,\n",
    "    user=\"root\", \n",
    "    password=\"123456\", \n",
    "    db=\"demo\"\n",
    ")"
   ]
  },
  {
   "attachments": {},
   "cell_type": "markdown",
   "metadata": {},
   "source": [
    "#### 2.2、获取所有系统\n"
   ]
  },
  {
   "cell_type": "code",
   "execution_count": 25,
   "metadata": {},
   "outputs": [],
   "source": [
    "cursor = conn.cursor()"
   ]
  },
  {
   "attachments": {},
   "cell_type": "markdown",
   "metadata": {},
   "source": [
    "#### 2.3、获取所有表\n"
   ]
  },
  {
   "cell_type": "code",
   "execution_count": 26,
   "metadata": {},
   "outputs": [],
   "source": [
    "cursor.execute('''SELECT \n",
    "        ApplicationName 'AppName',\n",
    "        mdc_app.appcode 'AppCode',\n",
    "        mdc_table.TableName 'TableCode',\n",
    "        mdc_table.DisplayName 'TableName'\n",
    "    FROM mdc_table\n",
    "    INNER JOIN mdc_app ON mdc_table.appcode = mdc_app.appcode and mdc_table.AppLevelCode = mdc_app.levelcode\n",
    "    where mdc_app.levelcode like '1000%'\n",
    "    ORDER BY  mdc_app.levelcode''')\n",
    "tables = cursor.fetchall()\n",
    "\n",
    "# list_group=[]\n",
    "\n",
    "# for app in apps: \n",
    "#     list_group.append([app[2],[x[3]+ \"(\"+ x[2] +\")\" for x in tables if x[1] == app[0]]])\n",
    "\n",
    "# f = open(\"table_infos.txt\", \"a\")\n",
    "# for ag in list_group:\n",
    "#     if len(ag[1])>0:\n",
    "#         f.write(\"`{0}`系统有以下数据表：{1}\\n\\n\".format(ag[0],','.join(ag[1])))\n",
    "# f.close()"
   ]
  },
  {
   "cell_type": "code",
   "execution_count": 27,
   "metadata": {},
   "outputs": [
    {
     "name": "stdout",
     "output_type": "stream",
     "text": [
      "(('销售系统', '0011', 'data_wide_s_Opportunity', '机会宽表'), ('销售系统', '0011', 'data_wide_s_AccountAge', '应收账龄宽表'), ('销售系统', '0011', 'data_wide_dws_s_SalesPerf', '销售业绩汇总宽表'))\n"
     ]
    }
   ],
   "source": [
    "print(tables[:3])"
   ]
  },
  {
   "attachments": {},
   "cell_type": "markdown",
   "metadata": {},
   "source": [
    "#### 2.3、获取所有字段\n"
   ]
  },
  {
   "cell_type": "code",
   "execution_count": 37,
   "metadata": {},
   "outputs": [],
   "source": [
    "cursor.execute('''SELECT\n",
    "        mdc_table.displayName 'tableCnName',\n",
    "        mdc_table.TableName,\n",
    "        mdc_tablecolumn.displayName 'ColumnCnName',\n",
    "        ColumnName\n",
    "    FROM mdc_table\n",
    "    INNER JOIN mdc_app ON mdc_table.appcode = mdc_app.appcode and mdc_table.AppLevelCode = mdc_app.levelcode\n",
    "    INNER JOIN mdc_tablecolumn on mdc_tablecolumn.TableName = mdc_table.TableName\n",
    "    where mdc_app.AppCode = '0011' and mdc_table.TableName in ('data_wide_s_Room','data_wide_s_Trade')\n",
    "    ORDER BY  TableName''')\n",
    "columns = cursor.fetchall()\n",
    "\n",
    "# col_group=[]\n",
    "\n",
    "# for tab in tables: \n",
    "#     col_group.append([tab[3],[x[1]+ \"(\"+ x[2] +\")\" for x in columns if x[0] == tab[2]]])\n",
    "\n",
    "# f = open(\"table_infos.txt\", \"a\")\n",
    "# for col in col_group:\n",
    "#     # print(\"`{0}`有以下字段：{1}\\n\\n\".format(col[0],','.join(col[1])))\n",
    "#     if len(col[1])>0:\n",
    "#         f.write(\"`{0}`表有以下字段：{1}\\n\\n\".format(col[0],','.join(col[1])))\n",
    "# f.close()"
   ]
  },
  {
   "cell_type": "code",
   "execution_count": 39,
   "metadata": {},
   "outputs": [
    {
     "name": "stdout",
     "output_type": "stream",
     "text": [
      "[{'tc': '房间宽表', 'te': 'data_wide_s_Room', 'cc': '补充协议总价', 'ce': 'BcxyTotal'}, {'tc': '房间宽表', 'te': 'data_wide_s_Room', 'cc': '实际交房日期', 'ce': 'SjjfDate'}, {'tc': '房间宽表', 'te': 'data_wide_s_Room', 'cc': '标准建筑单价', 'ce': 'BldPrice'}, {'tc': '房间宽表', 'te': 'data_wide_s_Room', 'cc': '楼层', 'ce': 'Floor'}, {'tc': '房间宽表', 'te': 'data_wide_s_Room', 'cc': '项目名称', 'ce': 'ParentProjName'}]\n"
     ]
    }
   ],
   "source": [
    "coljsons = [dict(zip((\"tc\", \"te\", \"cc\",\"ce\"), x)) for x in columns[:5]]\n",
    "print(coljsons)"
   ]
  },
  {
   "attachments": {},
   "cell_type": "markdown",
   "metadata": {},
   "source": [
    "### 3、将 tableinfos 插入都本地数据库\n"
   ]
  },
  {
   "cell_type": "code",
   "execution_count": 48,
   "metadata": {},
   "outputs": [
    {
     "name": "stderr",
     "output_type": "stream",
     "text": [
      "Using embedded DuckDB with persistence: data will be stored in: /Users/jiangyy/Codes/AI/LangChainCn/03-Samples/chroma/sql\n"
     ]
    }
   ],
   "source": [
    "from langchain.embeddings.openai import OpenAIEmbeddings\n",
    "from langchain.vectorstores import Chroma\n",
    "import json\n",
    "from langchain.docstore.document import Document\n",
    "\n",
    "embeddings = OpenAIEmbeddings(\n",
    "    deployment=AzureDeploymentName.EMEDDINGS,\n",
    "    chunk_size=1,\n",
    ")\n",
    "chroma_directory = os.path.abspath(\"chroma/sql\")\n",
    "\n",
    "pages = []\n",
    "for cj in coljsons:\n",
    "    pages.append(Document(page_content=json.dumps(cj,ensure_ascii=False),metadata=dict()))\n",
    "\n",
    "docsearch = Chroma.from_documents(pages, embeddings, persist_directory=chroma_directory)\n",
    "docsearch.persist()"
   ]
  },
  {
   "attachments": {},
   "cell_type": "markdown",
   "metadata": {},
   "source": [
    "### 4、生成查询 SQL\n"
   ]
  },
  {
   "cell_type": "code",
   "execution_count": 56,
   "metadata": {},
   "outputs": [
    {
     "name": "stderr",
     "output_type": "stream",
     "text": [
      "Using embedded DuckDB with persistence: data will be stored in: /Users/jiangyy/Codes/AI/LangChainCn/03-Samples/chroma/sql\n"
     ]
    },
    {
     "name": "stdout",
     "output_type": "stream",
     "text": [
      "\n",
      "\n",
      "\u001b[1m> Entering new StuffDocumentsChain chain...\u001b[0m\n",
      "\n",
      "\n",
      "\u001b[1m> Entering new LLMChain chain...\u001b[0m\n",
      "Prompt after formatting:\n",
      "\u001b[32;1m\u001b[1;3mUse the following pieces of context to answer the question at the end. If you don't know the answer, just say that you don't know, don't try to make up an answer.\n",
      "\n",
      "{\"tc\": \"房间宽表\", \"te\": \"data_wide_s_Room\", \"cc\": \"补充协议总价\", \"ce\": \"BcxyTotal\"}\n",
      "\n",
      "{\"tc\": \"房间宽表\", \"te\": \"data_wide_s_Room\", \"cc\": \"项目名称\", \"ce\": \"ParentProjName\"}\n",
      "\n",
      "{\"tc\": \"房间宽表\", \"te\": \"data_wide_s_Room\", \"cc\": \"实际交房日期\", \"ce\": \"SjjfDate\"}\n",
      "\n",
      "{\"tc\": \"房间宽表\", \"te\": \"data_wide_s_Room\", \"cc\": \"标准建筑单价\", \"ce\": \"BldPrice\"}\n",
      "\n",
      "Question: 这段json中tc表示数据表中文名, te标书数据表名, cc表示字段中文名, ce表示字段名。\n",
      "交易宽表的表名是什么？ \n",
      "Helpful Answer:\u001b[0m\n",
      "\n",
      "\u001b[1m> Finished chain.\u001b[0m\n",
      "\n",
      "\u001b[1m> Finished chain.\u001b[0m\n"
     ]
    },
    {
     "data": {
      "text/plain": [
       "' data_wide_s_Room'"
      ]
     },
     "execution_count": 56,
     "metadata": {},
     "output_type": "execute_result"
    }
   ],
   "source": [
    "from langchain.chains.question_answering import load_qa_chain\n",
    "from langchain.llms import AzureOpenAI\n",
    "from langchain.prompts import PromptTemplate\n",
    "\n",
    "# # 加载数据\n",
    "docsearch = Chroma(persist_directory=chroma_directory, embedding_function=embeddings)\n",
    "\n",
    "\n",
    "query = '''这段json中tc表示数据表中文名, te标书数据表名, cc表示字段中文名, ce表示字段名。\n",
    "交易宽表的表名是什么？ '''\n",
    "\n",
    "docss = docsearch.similarity_search(query)\n",
    "\n",
    "llm = AzureOpenAI(\n",
    "    deployment_name=AzureDeploymentName.LLM,\n",
    "    temperature=0\n",
    ")\n",
    "\n",
    "chain = load_qa_chain(llm, chain_type=\"stuff\", verbose=True)\n",
    "chain.run(input_documents=docss, question=query)"
   ]
  }
 ],
 "metadata": {
  "kernelspec": {
   "display_name": "Python 3",
   "language": "python",
   "name": "python3"
  },
  "language_info": {
   "codemirror_mode": {
    "name": "ipython",
    "version": 3
   },
   "file_extension": ".py",
   "mimetype": "text/x-python",
   "name": "python",
   "nbconvert_exporter": "python",
   "pygments_lexer": "ipython3",
   "version": "3.11.3"
  },
  "orig_nbformat": 4
 },
 "nbformat": 4,
 "nbformat_minor": 2
}
