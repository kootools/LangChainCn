{
 "cells": [
  {
   "attachments": {},
   "cell_type": "markdown",
   "metadata": {},
   "source": [
    "### 开始\n",
    "\n",
    "在本教程中，我们将学习如何在 LangChain 中创建简单的链。我们将学习如何创建链、向其添加组件并运行它。\n",
    "在本教程中，我们将介绍：\n",
    "\n",
    "- 使用简单的 LLM 链\n",
    "- 创建顺序链\n",
    "- 创建自定义链\n",
    "\n",
    "### 为什么我们需要链条？\n",
    "\n",
    "链允许我们将多个组件组合在一起以创建一个单一的、连贯的应用程序。例如，我们可以创建一个接受用户输入的链，使用 PromptTemplate 对其进行格式化，然后将格式化后的响应传递给 LLM。我们可以通过将多个链组合在一起，或者通过将链与其他组件组合来构建更复杂的链。\n",
    "\n",
    "### 快速开始：使用`LLMChain`\n",
    "\n",
    "这`LLMChain`是一个简单的链，它接受一个提示模板，用用户输入格式化它并返回来自 LLM 的响应。\n",
    "要使用`LLMChain`，首先创建一个提示模板。\n"
   ]
  },
  {
   "cell_type": "code",
   "execution_count": 2,
   "metadata": {},
   "outputs": [
    {
     "name": "stdout",
     "output_type": "stream",
     "text": [
      "azure\n"
     ]
    }
   ],
   "source": [
    "\n",
    "import os\n",
    "import sys               \n",
    "sys.path.append(os.path.dirname(os.path.abspath(\"..\"))) \n",
    "from API_KEYS import InitAzureEnv,AzureDeploymentName\n",
    "\n",
    "InitAzureEnv()"
   ]
  },
  {
   "cell_type": "code",
   "execution_count": 3,
   "metadata": {
    "tags": []
   },
   "outputs": [
    {
     "name": "stderr",
     "output_type": "stream",
     "text": [
      "/Library/Frameworks/Python.framework/Versions/3.11/lib/python3.11/site-packages/requests/__init__.py:109: RequestsDependencyWarning: urllib3 (1.26.16) or chardet (5.1.0)/charset_normalizer (2.0.12) doesn't match a supported version!\n",
      "  warnings.warn(\n"
     ]
    }
   ],
   "source": [
    "from langchain.prompts import PromptTemplate\n",
    "from langchain.llms import AzureOpenAI\n",
    "from langchain.chains import LLMChain\n",
    "\n",
    "llm = AzureOpenAI(\n",
    "    temperature=0,\n",
    "    deployment_name = AzureDeploymentName.LLM\n",
    ")\n",
    "prompt = PromptTemplate(\n",
    "    input_variables=[\"product\"],\n",
    "    template=\"推荐一个在中国专业做 {product}产品的公司?\",\n",
    ")"
   ]
  },
  {
   "attachments": {},
   "cell_type": "markdown",
   "metadata": {},
   "source": [
    "我们现在可以创建一个非常简单的链，它将接受用户输入，用它格式化提示，然后将它发送给 LLM。\n"
   ]
  },
  {
   "cell_type": "code",
   "execution_count": 4,
   "metadata": {
    "tags": []
   },
   "outputs": [
    {
     "name": "stdout",
     "output_type": "stream",
     "text": [
      "\n",
      "\n",
      "深圳市联想科技有限公司是一家专业从事手机产品的公司，拥有丰富的研发经验，拥有多款热门手机产品，并且在中国市场有着良好的口碑。\n"
     ]
    }
   ],
   "source": [
    "chain = LLMChain(llm=llm, prompt=prompt)\n",
    "\n",
    "# Run the chain only specifying the input variable.\n",
    "print(chain.run(\"手机\"))"
   ]
  },
  {
   "attachments": {},
   "cell_type": "markdown",
   "metadata": {},
   "source": [
    "如果有多个变量，您可以使用字典一次输入它们。\n"
   ]
  },
  {
   "cell_type": "code",
   "execution_count": 8,
   "metadata": {},
   "outputs": [
    {
     "name": "stdout",
     "output_type": "stream",
     "text": [
      "\n",
      "\n",
      "Apple、Motorola、HTC和Samsung等电话制造商。\n"
     ]
    }
   ],
   "source": [
    "prompt = PromptTemplate(\n",
    "    input_variables=[\"country\", \"product\"],\n",
    "    template=\"推荐一个在{country}专业做 {product}产品的公司?\",\n",
    ")\n",
    "chain = LLMChain(llm=llm, prompt=prompt)\n",
    "print(chain.run({\n",
    "    'country': \"美国\",\n",
    "    'product': \"手机\"\n",
    " }))"
   ]
  },
  {
   "attachments": {},
   "cell_type": "markdown",
   "metadata": {},
   "source": [
    "您也可以使用`LLMChain`聊天模型：\n"
   ]
  },
  {
   "cell_type": "code",
   "execution_count": 9,
   "metadata": {
    "tags": []
   },
   "outputs": [
    {
     "name": "stdout",
     "output_type": "stream",
     "text": [
      "苹果公司（Apple Inc.）是一个在美国专业做手机产品的公司，其旗下的iPhone系列手机在全球范围内广受欢迎。\n"
     ]
    }
   ],
   "source": [
    "from langchain.chat_models import AzureChatOpenAI\n",
    "from langchain.prompts.chat import (\n",
    "    ChatPromptTemplate,\n",
    "    HumanMessagePromptTemplate,\n",
    ")\n",
    "human_message_prompt = HumanMessagePromptTemplate(\n",
    "        prompt=PromptTemplate(\n",
    "            input_variables=[\"country\", \"product\"],\n",
    "            template=\"推荐一个在{country}专业做 {product}产品的公司?\",\n",
    "        )\n",
    "    )\n",
    "chat_prompt_template = ChatPromptTemplate.from_messages([human_message_prompt])\n",
    "chat = AzureChatOpenAI(\n",
    "    temperature=0,\n",
    "    deployment_name = AzureDeploymentName.CHAT\n",
    ")\n",
    "chain = LLMChain(llm=chat, prompt=chat_prompt_template)\n",
    "print(chain.run({\n",
    "    'country': \"美国\",\n",
    "    'product': \"手机\"\n",
    " }))"
   ]
  },
  {
   "attachments": {},
   "cell_type": "markdown",
   "metadata": {},
   "source": [
    "#### 调用链的不同方式\n",
    "\n",
    "所有继承自的类都`Chain`提供了几种运行链逻辑的方法。最直接的一种是使用`__call__`:\n"
   ]
  },
  {
   "cell_type": "code",
   "execution_count": 10,
   "metadata": {},
   "outputs": [
    {
     "data": {
      "text/plain": [
       "{'product': '手机',\n",
       " 'text': '华为技术有限公司是一家在中国专业做手机产品的公司，它是全球领先的信息和通信技术（ICT）解决方案供应商之一，拥有自主研发的芯片、操作系统和通信技术，其手机产品在国内外市场上都有很高的知名度和市场占有率。'}"
      ]
     },
     "execution_count": 10,
     "metadata": {},
     "output_type": "execute_result"
    }
   ],
   "source": [
    "chat = AzureChatOpenAI(\n",
    "    temperature=0,\n",
    "    deployment_name = AzureDeploymentName.CHAT\n",
    ")\n",
    "prompt_template = \"推荐一个在中国专业做 {product}产品的公司?\"\n",
    "llm_chain = LLMChain(\n",
    "    llm=chat,\n",
    "    prompt=PromptTemplate.from_template(prompt_template)\n",
    ")\n",
    "\n",
    "llm_chain(inputs={\"product\":\"手机\"})"
   ]
  },
  {
   "attachments": {},
   "cell_type": "markdown",
   "metadata": {},
   "source": [
    "默认情况下，`__call__`返回输入和输出键值。`return_only_outputs`您可以通过设置为将其配置为仅返回输出键值`True`。\n"
   ]
  },
  {
   "cell_type": "code",
   "execution_count": 12,
   "metadata": {},
   "outputs": [
    {
     "data": {
      "text/plain": [
       "{'text': '华为技术有限公司是一家在中国专业做手机产品的公司，它是全球领先的信息和通信技术（ICT）解决方案供应商之一，拥有自主研发的芯片、操作系统和通信技术，其手机产品在国内外市场上都有很高的知名度和市场占有率。'}"
      ]
     },
     "execution_count": 12,
     "metadata": {},
     "output_type": "execute_result"
    }
   ],
   "source": [
    "llm_chain({\"product\":\"手机\"},return_only_outputs=True)"
   ]
  },
  {
   "attachments": {},
   "cell_type": "markdown",
   "metadata": {},
   "source": [
    "如果`Chain`只输出一个输出键（即只有一个元素在它的 output_keys），你可以使用 run 方法。\n",
    "请注意，run 输出的是字符串而不是字典。\n"
   ]
  },
  {
   "cell_type": "code",
   "execution_count": 13,
   "metadata": {},
   "outputs": [
    {
     "data": {
      "text/plain": [
       "['text']"
      ]
     },
     "execution_count": 13,
     "metadata": {},
     "output_type": "execute_result"
    }
   ],
   "source": [
    "# llm_chain only has one output key, so we can use run\n",
    "llm_chain.output_keys"
   ]
  },
  {
   "attachments": {},
   "cell_type": "markdown",
   "metadata": {},
   "source": [
    "提示：您可以通过其方法轻松地将`Chain`对象集成为`Tool`您的对象。请在此处查看示例。`Agentrun`\n"
   ]
  },
  {
   "attachments": {},
   "cell_type": "markdown",
   "metadata": {},
   "source": [
    "#### 向链中添加内存\n",
    "\n",
    "`Chain`支持将`BaseMemory`对象作为`memory`参数，允许`Chain`对象在多次调用中持久保存数据。换句话说，它创建了`Chain`一个有状态的对象。\n"
   ]
  },
  {
   "cell_type": "code",
   "execution_count": 14,
   "metadata": {},
   "outputs": [
    {
     "data": {
      "text/plain": [
       "'除了之前提到的华为、小米、OPPO和vivo之外，还有一些其他的手机公司也值得关注。例如，荣耀、realme、一加、联想等等。这些公司都有自己的特色和优势，您可以根据自己的需求和喜好选择其中一个。'"
      ]
     },
     "execution_count": 14,
     "metadata": {},
     "output_type": "execute_result"
    }
   ],
   "source": [
    "from langchain.chains import ConversationChain\n",
    "from langchain.memory import ConversationBufferMemory\n",
    "\n",
    "conversation = ConversationChain(\n",
    "    llm=chat,\n",
    "    memory=ConversationBufferMemory()\n",
    ")\n",
    "\n",
    "conversation.run(\"推荐一个在中国专业做手机产品的公司?\")\n",
    "conversation.run(\"再推荐4家?\")"
   ]
  },
  {
   "attachments": {},
   "cell_type": "markdown",
   "metadata": {},
   "source": [
    "本质上，`BaseMemory`定义了一个如何`langchain`存储内存的接口。它允许通过方法读取存储的数据`load_memory_variables`并通过`save_context`方法存储新数据。\n"
   ]
  },
  {
   "attachments": {},
   "cell_type": "markdown",
   "metadata": {},
   "source": [
    "#### 调试链\n",
    "\n",
    "`Chain`设置`verbose`为将在运行时`True`打印出`Chain`对象的一些内部状态。\n"
   ]
  },
  {
   "cell_type": "code",
   "execution_count": 15,
   "metadata": {},
   "outputs": [
    {
     "name": "stdout",
     "output_type": "stream",
     "text": [
      "\n",
      "\n",
      "\u001b[1m> Entering new ConversationChain chain...\u001b[0m\n",
      "Prompt after formatting:\n",
      "\u001b[32;1m\u001b[1;3mThe following is a friendly conversation between a human and an AI. The AI is talkative and provides lots of specific details from its context. If the AI does not know the answer to a question, it truthfully says it does not know.\n",
      "\n",
      "Current conversation:\n",
      "\n",
      "Human: 推荐一个在中国专业做手机产品的公司?\n",
      "AI:\u001b[0m\n",
      "\n",
      "\u001b[1m> Finished chain.\u001b[0m\n"
     ]
    },
    {
     "data": {
      "text/plain": [
       "'中国有很多专业做手机产品的公司，其中一些知名的公司包括华为、小米、OPPO、vivo、魅族等等。这些公司都在中国市场拥有很高的知名度和市场份额。您可以根据自己的需求和喜好选择其中一个公司。'"
      ]
     },
     "execution_count": 15,
     "metadata": {},
     "output_type": "execute_result"
    }
   ],
   "source": [
    "conversation = ConversationChain(\n",
    "    llm=chat,\n",
    "    memory=ConversationBufferMemory(),\n",
    "    verbose=True\n",
    ")\n",
    "conversation.run(\"推荐一个在中国专业做手机产品的公司?\")"
   ]
  },
  {
   "attachments": {},
   "cell_type": "markdown",
   "metadata": {},
   "source": [
    "### 组合链 SequentialChain\n",
    "\n",
    "调用语言模型后的下一步是对语言模型进行一系列调用。我们可以使用顺序链来做到这一点，顺序链是按预定义顺序执行其链接的链。具体来说，我们将使用`SimpleSequentialChain`. 这是最简单的顺序链类型，其中每个步骤都有一个输入/输出，一个步骤的输出是下一个步骤的输入。\n",
    "\n",
    "在本教程中，我们的顺序链将：<br>\n",
    "首先，为产品创建公司名称。我们将重用`LLMChain`我们之前初始化的来创建这个公司名称。<br>\n",
    "然后，为产品创建一个标语。我们将初始化一个新的`LLMChain`来创建这个标语，如下所示。\n"
   ]
  },
  {
   "cell_type": "code",
   "execution_count": 18,
   "metadata": {},
   "outputs": [],
   "source": [
    "one_prompt = PromptTemplate(\n",
    "    input_variables=[\"sport\"],\n",
    "    template=\"英国最出色的{sport}俱乐部是什么?\",\n",
    ")\n",
    "chain_one = LLMChain(llm=llm, prompt=one_prompt)\n",
    "\n",
    "second_prompt = PromptTemplate(\n",
    "    input_variables=[\"club\"],\n",
    "    template=\"这家{club}历史上都有哪些著名运动员？\",\n",
    ")\n",
    "chain_two = LLMChain(llm=llm, prompt=second_prompt)"
   ]
  },
  {
   "attachments": {},
   "cell_type": "markdown",
   "metadata": {},
   "source": [
    "现在我们可以将这两个 LLMChain 结合起来，这样我们就可以一步创建一个公司名称和一个标语。\n"
   ]
  },
  {
   "cell_type": "code",
   "execution_count": 21,
   "metadata": {},
   "outputs": [
    {
     "name": "stdout",
     "output_type": "stream",
     "text": [
      "\n",
      "\n",
      "\u001b[1m> Entering new SimpleSequentialChain chain...\u001b[0m\n",
      "\u001b[36;1m\u001b[1;3m\n",
      "\n",
      "英国最出色的足球俱乐部是曼联队。曼联队是英格兰足球超级联赛的冠军，也是欧洲冠军联赛的冠军，拥有20个英格兰足球超级联赛冠军，12个足总杯冠军，5个欧洲冠军联赛冠军，3个欧洲联盟杯冠军，1个欧洲超级杯冠军，以及1个世界俱乐部冠军。\u001b[0m\n",
      "\u001b[33;1m\u001b[1;3m曼联队有许多著名的运动员，其中包括：贝克汉姆，罗纳尔多，埃里克森，卡里姆，卡洛斯，费尔南多，费尔南德斯，贝尔，卡里克，卡瓦尼，费尔纳多，卡拉斯科，罗伯特，马塞洛，罗伊斯，罗伊斯，罗伊斯，罗伊斯，罗伊斯，罗伊\u001b[0m\n",
      "\n",
      "\u001b[1m> Finished chain.\u001b[0m\n",
      "曼联队有许多著名的运动员，其中包括：贝克汉姆，罗纳尔多，埃里克森，卡里姆，卡洛斯，费尔南多，费尔南德斯，贝尔，卡里克，卡瓦尼，费尔纳多，卡拉斯科，罗伯特，马塞洛，罗伊斯，罗伊斯，罗伊斯，罗伊斯，罗伊斯，罗伊\n"
     ]
    }
   ],
   "source": [
    "from langchain.chains import SimpleSequentialChain\n",
    "overall_chain = SimpleSequentialChain(chains=[chain_one, chain_two], verbose=True)\n",
    "\n",
    "catchphrase = overall_chain.run(\"足球\")\n",
    "print(catchphrase)"
   ]
  },
  {
   "attachments": {},
   "cell_type": "markdown",
   "metadata": {},
   "source": [
    "### `Chain`使用类创建自定义链\n",
    "\n",
    "LangChain 提供了许多开箱即用的链，但有时您可能希望为您的特定用例创建自定义链。\n",
    "\n",
    "为了创建自定义链,从类的子类开始 Chain，<br>\n",
    "填写 input_keys 和 output_keys 属性，<br>\n",
    "添加\\_call 显示如何执行链的方法。<br>\n"
   ]
  },
  {
   "cell_type": "code",
   "execution_count": 14,
   "metadata": {},
   "outputs": [],
   "source": [
    "from langchain.chains import LLMChain\n",
    "from langchain.chains.base import Chain\n",
    "\n",
    "from typing import Dict, List\n",
    "\n",
    "\n",
    "class ConcatenateChain(Chain):\n",
    "    chain_1: LLMChain\n",
    "    chain_2: LLMChain\n",
    "\n",
    "    @property\n",
    "    def input_keys(self) -> List[str]:\n",
    "        # Union of the input keys of the two chains.\n",
    "        all_input_vars = set(self.chain_1.input_keys).union(set(self.chain_2.input_keys))\n",
    "        return list(all_input_vars)\n",
    "\n",
    "    @property\n",
    "    def output_keys(self) -> List[str]:\n",
    "        return ['concat_output']\n",
    "\n",
    "    def _call(self, inputs: Dict[str, str]) -> Dict[str, str]:\n",
    "        output_1 = self.chain_1.run(inputs)\n",
    "        output_2 = self.chain_2.run(inputs)\n",
    "        return {'concat_output': output_1 + output_2}"
   ]
  },
  {
   "attachments": {},
   "cell_type": "markdown",
   "metadata": {},
   "source": [
    "现在，我们可以尝试运行我们调用的链。\n"
   ]
  },
  {
   "cell_type": "code",
   "execution_count": 15,
   "metadata": {},
   "outputs": [
    {
     "name": "stdout",
     "output_type": "stream",
     "text": [
      "Concatenated output:\n",
      "\n",
      "\n",
      "Funky Footwear Company\n",
      "\n",
      "\"Brighten Up Your Day with Our Colorful Socks!\"\n"
     ]
    }
   ],
   "source": [
    "prompt_1 = PromptTemplate(\n",
    "    input_variables=[\"product\"],\n",
    "    template=\"What is a good name for a company that makes {product}?\",\n",
    ")\n",
    "chain_1 = LLMChain(llm=llm, prompt=prompt_1)\n",
    "\n",
    "prompt_2 = PromptTemplate(\n",
    "    input_variables=[\"product\"],\n",
    "    template=\"What is a good slogan for a company that makes {product}?\",\n",
    ")\n",
    "chain_2 = LLMChain(llm=llm, prompt=prompt_2)\n",
    "\n",
    "concat_chain = ConcatenateChain(chain_1=chain_1, chain_2=chain_2)\n",
    "concat_output = concat_chain.run(\"colorful socks\")\n",
    "print(f\"Concatenated output:\\n{concat_output}\")"
   ]
  },
  {
   "attachments": {},
   "cell_type": "markdown",
   "metadata": {},
   "source": [
    "That's it! For more details about how to do cool things with Chains, check out the [how-to guide](how_to_guides.rst) for chains.\n"
   ]
  }
 ],
 "metadata": {
  "kernelspec": {
   "display_name": "Python 3 (ipykernel)",
   "language": "python",
   "name": "python3"
  },
  "language_info": {
   "codemirror_mode": {
    "name": "ipython",
    "version": 3
   },
   "file_extension": ".py",
   "mimetype": "text/x-python",
   "name": "python",
   "nbconvert_exporter": "python",
   "pygments_lexer": "ipython3",
   "version": "3.11.3"
  },
  "vscode": {
   "interpreter": {
    "hash": "b1677b440931f40d89ef8be7bf03acb108ce003de0ac9b18e8d43753ea2e7103"
   }
  }
 },
 "nbformat": 4,
 "nbformat_minor": 4
}
