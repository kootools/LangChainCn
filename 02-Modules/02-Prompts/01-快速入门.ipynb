{
 "cells": [
  {
   "attachments": {},
   "cell_type": "markdown",
   "metadata": {},
   "source": [
    "## 开始\n",
    "\n",
    "在本教程中，我们将了解：\n",
    "\n",
    "- 提示模板是什么，为什么需要它，\n",
    "- 如何创建提示模板，\n",
    "- 如何将几个镜头示例传递给提示模板，\n",
    "- 如何为提示模板选择示例。\n",
    "\n",
    "## 什么是提示模板？\n",
    "\n",
    "提示模板是指生成提示的一种方式。它包含一个文本字符串（“模板”），可以从最终用户那里获取一组参数并生成提示。\n",
    "\n",
    "提示模板可能包含：\n",
    "\n",
    "- 语言模型的指令，\n",
    "- 一组少量的示例，以帮助语言模型生成更好的响应，\n",
    "- 语言模型的问题。\n",
    "\n",
    "以下代码片段包含一个提示模板示例：\n"
   ]
  },
  {
   "cell_type": "code",
   "execution_count": 4,
   "metadata": {},
   "outputs": [
    {
     "data": {
      "text/plain": [
       "'\\n我想去旅游。\\n给提推荐中国有哪些好玩的景点?\\n'"
      ]
     },
     "execution_count": 4,
     "metadata": {},
     "output_type": "execute_result"
    }
   ],
   "source": [
    "from langchain import PromptTemplate\n",
    "\n",
    "template = \"\"\"\n",
    "我想去旅游。\n",
    "给提推荐{country}有哪些好玩的景点?\n",
    "\"\"\"\n",
    "\n",
    "prompt = PromptTemplate(\n",
    "    input_variables=[\"country\"],\n",
    "    template=template,\n",
    ")\n",
    "prompt.format(country=\"中国\")"
   ]
  },
  {
   "attachments": {},
   "cell_type": "markdown",
   "metadata": {},
   "source": [
    "提示模版参数可以是任意多个\n"
   ]
  },
  {
   "cell_type": "code",
   "execution_count": 5,
   "metadata": {},
   "outputs": [
    {
     "data": {
      "text/plain": [
       "'\\n我想去旅游。\\n给提推荐中国杭州有哪些好玩的景点?\\n'"
      ]
     },
     "execution_count": 5,
     "metadata": {},
     "output_type": "execute_result"
    }
   ],
   "source": [
    "from langchain import PromptTemplate\n",
    "\n",
    "template = \"\"\"\n",
    "我想去旅游。\n",
    "给提推荐{country}{city}有哪些好玩的景点?\n",
    "\"\"\"\n",
    "\n",
    "prompt = PromptTemplate(\n",
    "    input_variables=[\"country\",\"city\"],\n",
    "    template=template,\n",
    ")\n",
    "prompt.format(country=\"中国\",city=\"杭州\")"
   ]
  },
  {
   "attachments": {},
   "cell_type": "markdown",
   "metadata": {},
   "source": [
    "再模板中添加示例\n"
   ]
  },
  {
   "cell_type": "code",
   "execution_count": 9,
   "metadata": {},
   "outputs": [
    {
     "name": "stdout",
     "output_type": "stream",
     "text": [
      "给出我输入单词的反义词\n",
      "\n",
      "word: happy\n",
      "antonym: sad\n",
      "\n",
      "word: tall\n",
      "antonym: short\n",
      "\n",
      "单词: 高\n",
      "反义词: \n"
     ]
    }
   ],
   "source": [
    "from langchain import PromptTemplate, FewShotPromptTemplate\n",
    "\n",
    "# 创建一些示例.\n",
    "examples = [\n",
    "    {\"word\": \"happy\", \"antonym\": \"sad\"},\n",
    "    {\"word\": \"tall\", \"antonym\": \"short\"},\n",
    "]\n",
    "\n",
    "example_prompt = PromptTemplate(\n",
    "    input_variables=[\"word\", \"antonym\"],\n",
    "    template=\"\"\"word: {word}\n",
    "antonym: {antonym}\n",
    "\"\"\",\n",
    ")\n",
    "\n",
    "few_shot_prompt = FewShotPromptTemplate(\n",
    "    examples=examples,\n",
    "    example_prompt=example_prompt,\n",
    "\n",
    "    prefix=\"给出我输入单词的反义词\\n\",\n",
    "\n",
    "    suffix=\"单词: {input}\\n反义词: \",\n",
    "    input_variables=[\"input\"],\n",
    "    example_separator=\"\\n\",\n",
    ")\n",
    "\n",
    "print(few_shot_prompt.format(input=\"高\"))"
   ]
  }
 ],
 "metadata": {
  "kernelspec": {
   "display_name": "Python 3",
   "language": "python",
   "name": "python3"
  },
  "language_info": {
   "codemirror_mode": {
    "name": "ipython",
    "version": 3
   },
   "file_extension": ".py",
   "mimetype": "text/x-python",
   "name": "python",
   "nbconvert_exporter": "python",
   "pygments_lexer": "ipython3",
   "version": "3.11.3"
  },
  "orig_nbformat": 4
 },
 "nbformat": 4,
 "nbformat_minor": 2
}
