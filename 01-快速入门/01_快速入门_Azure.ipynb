{
 "cells": [
  {
   "attachments": {},
   "cell_type": "markdown",
   "metadata": {},
   "source": [
    "### 安装 LangChain 与 OpenAI\n"
   ]
  },
  {
   "cell_type": "code",
   "execution_count": 1,
   "metadata": {},
   "outputs": [],
   "source": [
    "import os\n",
    "import API_KEYS\n",
    "os.environ[\"OPENAI_API_TYPE\"] = \"azure\"\n",
    "os.environ[\"OPENAI_API_VERSION\"] = \"2023-05-15\"\n",
    "os.environ[\"OPENAI_API_BASE\"] = API_KEYS.AZURE_ENDPOINT\n",
    "os.environ[\"OPENAI_API_KEY\"] = API_KEYS.AZURE_API_KEY"
   ]
  },
  {
   "cell_type": "code",
   "execution_count": 2,
   "metadata": {},
   "outputs": [],
   "source": [
    "from langchain.llms import AzureOpenAI\n",
    "\n",
    "# Create an instance of Azure OpenAI\n",
    "# Replace the deployment name with your own\n",
    "llm = AzureOpenAI(\n",
    "    deployment_name=API_KEYS.AZURE_DEPLOYMENT_NAME_LLM,\n",
    "    temperature=0\n",
    ")"
   ]
  },
  {
   "cell_type": "code",
   "execution_count": 3,
   "metadata": {},
   "outputs": [
    {
     "data": {
      "text/plain": [
       "'\\n\\n微软公司的创始人是比尔·盖茨和保罗·艾伦。'"
      ]
     },
     "execution_count": 3,
     "metadata": {},
     "output_type": "execute_result"
    }
   ],
   "source": [
    "llm(\"微软公司的创始人是谁？\")"
   ]
  },
  {
   "attachments": {},
   "cell_type": "markdown",
   "metadata": {},
   "source": [
    "#### Agents: 基于用户输入动态调用 Chain\n"
   ]
  },
  {
   "cell_type": "code",
   "execution_count": 4,
   "metadata": {},
   "outputs": [],
   "source": [
    "# pip install google-search-results\n",
    "\n",
    "os.environ[\"SERPAPI_API_KEY\"] = API_KEYS.SERPAPI_API_KEY\n",
    "\n",
    "from langchain.agents import load_tools\n",
    "from langchain.agents import initialize_agent\n",
    "from langchain.agents import AgentType\n",
    "from langchain.llms import AzureOpenAI\n",
    "\n",
    "# Create an instance of Azure OpenAI\n",
    "# Replace the deployment name with your own\n",
    "llm = AzureOpenAI(\n",
    "    deployment_name=API_KEYS.AZURE_DEPLOYMENT_NAME_LLM,\n",
    "    streaming=True,\n",
    "    temperature=0\n",
    ")\n",
    "\n",
    "\n",
    " # 加载 serpapi 工具\n",
    "tools = load_tools([\"serpapi\"])\n",
    "\n",
    "# 如果搜索完想在计算一下可以这么写\n",
    "# tools = load_tools(['serpapi', 'llm-math'], llm=llm)\n",
    "\n",
    "# 如果搜索完想再让他再用python的print做点简单的计算，可以这样写\n",
    "# tools=load_tools([\"serpapi\",\"python_repl\"])\n",
    "\n",
    "# 工具加载后都需要初始化，verbose 参数为 True，会打印全部的执行详情\n",
    "agent = initialize_agent(tools, llm, agent=AgentType.ZERO_SHOT_REACT_DESCRIPTION, verbose=True)"
   ]
  },
  {
   "cell_type": "code",
   "execution_count": 6,
   "metadata": {},
   "outputs": [
    {
     "name": "stdout",
     "output_type": "stream",
     "text": [
      "\n",
      "\n",
      "\u001b[1m> Entering new AgentExecutor chain...\u001b[0m\n",
      "\u001b[32;1m\u001b[1;3m I need to find out more information about this company.\n",
      "Action: Search\n",
      "Action Input: 明源云\u001b[0m\n",
      "Observation: \u001b[36;1m\u001b[1;3m明源云，成立于2003年（其前身公司创始于1997年），是国内领先的不动产生态链数字化解决方案服务商，香港联交所主板上市（0909.HK）已经累计为7000多家不动产开发运营 ...\u001b[0m\n",
      "Thought:\u001b[32;1m\u001b[1;3m I now know the company is listed on the Hong Kong Stock Exchange.\n",
      "Action: Search\n",
      "Action Input: 明源云老板\u001b[0m\n",
      "Observation: \u001b[36;1m\u001b[1;3m在2003年，由主席及首席执行官高宇、执行董事陈晓晖和姜海洋，于总部深圳成立“深圳市明源拓展软件科技有限公司”，经营中国内地和全球经营地产生态链数字化服务。\u001b[0m\n",
      "Thought:\u001b[32;1m\u001b[1;3m I now know the company was founded by Gao Yu, Chen Xiaohui, and Jiang Haiyang.\n",
      "Final Answer: 明源云是一家国内领先的不动产生态链数字化解决方案服务商，香港联交所主板上市（0909.HK），由主席及首席执行官高宇、执行董事陈晓晖和姜海洋创立。\u001b[0m\n",
      "\n",
      "\u001b[1m> Finished chain.\u001b[0m\n"
     ]
    },
    {
     "data": {
      "text/plain": [
       "'明源云是一家国内领先的不动产生态链数字化解决方案服务商，香港联交所主板上市（0909.HK），由主席及首席执行官高宇、执行董事陈晓晖和姜海洋创立。'"
      ]
     },
     "execution_count": 6,
     "metadata": {},
     "output_type": "execute_result"
    }
   ],
   "source": [
    "# 运行 agent\n",
    "agent.run(\"明源云是做什么业务的？上市了没有？老板是谁？\")"
   ]
  },
  {
   "attachments": {},
   "cell_type": "markdown",
   "metadata": {},
   "source": [
    "**agent type 几个选项的含义（理解不了也不会影响下面的学习，用多了自然理解了）：**\n",
    "\n",
    "- zero-shot-react-description: 根据工具的描述和请求内容的来决定使用哪个工具（最常用）\n",
    "- react-docstore: 使用 ReAct 框架和 docstore 交互, 使用 Search 和 Lookup 工具, 前者用来搜, 后者寻找 term, 举例: Wipipedia 工具\n",
    "- self-ask-with-search 此代理只使用一个工具: Intermediate Answer, 它会为问题寻找事实答案(指的非 gpt 生成的答案, 而是在网络中,文本中已存在的), 如 Google search API 工具\n",
    "- conversational-react-description: 为会话设置而设计的代理, 它的 prompt 会被设计的具有会话性, 且还是会使用 ReAct 框架来决定使用来个工具, 并且将过往的会话交互存入内存\n"
   ]
  }
 ],
 "metadata": {
  "kernelspec": {
   "display_name": "Python 3 (ipykernel)",
   "language": "python",
   "name": "python3"
  },
  "language_info": {
   "codemirror_mode": {
    "name": "ipython",
    "version": 3
   },
   "file_extension": ".py",
   "mimetype": "text/x-python",
   "name": "python",
   "nbconvert_exporter": "python",
   "pygments_lexer": "ipython3",
   "version": "3.11.3"
  }
 },
 "nbformat": 4,
 "nbformat_minor": 4
}
